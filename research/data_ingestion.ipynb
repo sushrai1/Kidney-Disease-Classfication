{
 "cells": [
  {
   "cell_type": "code",
   "execution_count": 1,
   "id": "497610b7",
   "metadata": {},
   "outputs": [],
   "source": [
    "import os"
   ]
  },
  {
   "cell_type": "code",
   "execution_count": 2,
   "id": "58f4e861",
   "metadata": {},
   "outputs": [
    {
     "data": {
      "text/plain": [
       "'/Users/sushraireddy/Desktop/Kidney-Disease-Classfication/Kidney-Disease-Classfication/research'"
      ]
     },
     "execution_count": 2,
     "metadata": {},
     "output_type": "execute_result"
    }
   ],
   "source": [
    "%pwd"
   ]
  },
  {
   "cell_type": "code",
   "execution_count": 3,
   "id": "64181c35",
   "metadata": {},
   "outputs": [],
   "source": [
    "os.chdir(\"../\")"
   ]
  },
  {
   "cell_type": "code",
   "execution_count": 4,
   "id": "c519b637",
   "metadata": {},
   "outputs": [],
   "source": [
    "from dataclasses import dataclass\n",
    "from pathlib import Path  # Correct import\n",
    "\n",
    "@dataclass(frozen=True)\n",
    "class DataIngestionConfig:\n",
    "    root_dir: Path\n",
    "    source_URL: str\n",
    "    local_data_file: Path\n",
    "    unzip_dir:Path"
   ]
  },
  {
   "cell_type": "code",
   "execution_count": 5,
   "id": "d0afd0ae",
   "metadata": {},
   "outputs": [
    {
     "name": "stdout",
     "output_type": "stream",
     "text": [
      "[2025-05-30 13:46:39,088: INFO: __init__: Welcome to custom log]\n"
     ]
    }
   ],
   "source": [
    "from cnnClassifier.constants import *\n",
    "from cnnClassifier.utils.common import read_yaml,create_directories"
   ]
  },
  {
   "cell_type": "code",
   "execution_count": 6,
   "id": "04c98813",
   "metadata": {},
   "outputs": [],
   "source": [
    "class ConfigurationManager:\n",
    "    def __init__(\n",
    "        self,\n",
    "        config_filepath=CONFIG_FILE_PATH,\n",
    "        params_filepath=PARAMS_FILE_PATH\n",
    "    ):\n",
    "        self.config = read_yaml(config_filepath)\n",
    "        self.params = read_yaml(params_filepath)\n",
    "        create_directories([self.config.artifacts_root])\n",
    "\n",
    "    def get_data_ingestion_config(self) -> DataIngestionConfig:\n",
    "        config = self.config.data_ingestion\n",
    "\n",
    "        create_directories([config.root_dir])\n",
    "\n",
    "        data_ingestion_config = DataIngestionConfig(\n",
    "            root_dir=config.root_dir,\n",
    "            source_URL=config.source_URL,  # match YAML key\n",
    "            local_data_file=config.local_data_file,\n",
    "            unzip_dir=config.unzip_dir\n",
    "        )\n",
    "\n",
    "        return data_ingestion_config"
   ]
  },
  {
   "cell_type": "code",
   "execution_count": 7,
   "id": "b4264eb1",
   "metadata": {},
   "outputs": [],
   "source": [
    "import os\n",
    "import zipfile\n",
    "import gdown\n",
    "from cnnClassifier import logger"
   ]
  },
  {
   "cell_type": "code",
   "execution_count": 8,
   "id": "fb58f1a9",
   "metadata": {},
   "outputs": [],
   "source": [
    "class DataIngestion:\n",
    "    def __init__(self, config: DataIngestionConfig):\n",
    "        self.config = config\n",
    "\n",
    "    def download_file(self) -> str:\n",
    "        try:\n",
    "            dataset_url = self.config.source_URL\n",
    "            zip_download_dir = self.config.local_data_file\n",
    "\n",
    "            os.makedirs(\"artifacts/data_ingestion\", exist_ok=True)\n",
    "\n",
    "            logger.info(f\"Downloading data from {dataset_url} into file {zip_download_dir}\")\n",
    "\n",
    "            file_id = dataset_url.split(\"/\")[-2]\n",
    "            prefix = 'https://drive.google.com/uc?export=download&id='\n",
    "            download_url = prefix + file_id\n",
    "\n",
    "            gdown.download(download_url, zip_download_dir)\n",
    "\n",
    "            logger.info(f\"Downloaded data from {dataset_url} into file {zip_download_dir}\")\n",
    "            return zip_download_dir\n",
    "\n",
    "        except Exception as e:\n",
    "            logger.error(f\"Failed to download file due to: {e}\")\n",
    "            raise\n",
    "\n",
    "    def extract_zip_file(self) -> None:\n",
    "        try:\n",
    "            unzip_path = self.config.unzip_dir\n",
    "            os.makedirs(unzip_path, exist_ok=True)\n",
    "\n",
    "            with zipfile.ZipFile(self.config.local_data_file, 'r') as zip_ref:\n",
    "                zip_ref.extractall(unzip_path)\n",
    "\n",
    "        except Exception as e:\n",
    "            logger.error(f\"Failed to extract zip file due to: {e}\")\n",
    "            raise"
   ]
  },
  {
   "cell_type": "code",
   "execution_count": 9,
   "id": "a6bc96de",
   "metadata": {},
   "outputs": [
    {
     "name": "stdout",
     "output_type": "stream",
     "text": [
      "[2025-05-30 13:46:50,034: INFO: common: yaml file: config/config.yaml loaded successfully]\n",
      "[2025-05-30 13:46:50,036: INFO: common: yaml file: params.yaml loaded successfully]\n",
      "[2025-05-30 13:46:50,037: INFO: common: created directory at: artifacts]\n",
      "[2025-05-30 13:46:50,038: INFO: common: created directory at: artifacts/data_ingestion]\n",
      "[2025-05-30 13:46:50,039: INFO: 3469047994: Downloading data from https://drive.google.com/file/d/1wqlI7hsen8Q7wpjzs3pUeGlDZKqci4W-/view?usp=sharing into file artifacts/data_ingestion/data.zip]\n"
     ]
    },
    {
     "name": "stderr",
     "output_type": "stream",
     "text": [
      "Downloading...\n",
      "From (original): https://drive.google.com/uc?export=download&id=1wqlI7hsen8Q7wpjzs3pUeGlDZKqci4W-\n",
      "From (redirected): https://drive.google.com/uc?export=download&id=1wqlI7hsen8Q7wpjzs3pUeGlDZKqci4W-&confirm=t&uuid=e0d6c72a-6879-492f-98f6-dd1be7bc0954\n",
      "To: /Users/sushraireddy/Desktop/Kidney-Disease-Classfication/Kidney-Disease-Classfication/artifacts/data_ingestion/data.zip\n",
      "100%|██████████| 943M/943M [04:16<00:00, 3.67MB/s] "
     ]
    },
    {
     "name": "stdout",
     "output_type": "stream",
     "text": [
      "[2025-05-30 13:51:12,204: INFO: 3469047994: Downloaded data from https://drive.google.com/file/d/1wqlI7hsen8Q7wpjzs3pUeGlDZKqci4W-/view?usp=sharing into file artifacts/data_ingestion/data.zip]\n"
     ]
    },
    {
     "name": "stderr",
     "output_type": "stream",
     "text": [
      "\n"
     ]
    }
   ],
   "source": [
    "try:\n",
    "    config = ConfigurationManager()\n",
    "    data_ingestion_config = config.get_data_ingestion_config()\n",
    "    data_ingestion = DataIngestion(config=data_ingestion_config)\n",
    "    data_ingestion.download_file()\n",
    "    data_ingestion.extract_zip_file()\n",
    "except Exception as e:\n",
    "    raise"
   ]
  },
  {
   "cell_type": "code",
   "execution_count": 10,
   "id": "5b554183",
   "metadata": {},
   "outputs": [
    {
     "name": "stdout",
     "output_type": "stream",
     "text": [
      "[2025-05-30 12:53:57,183: INFO: common: yaml file: config/config.yaml loaded successfully]\n",
      "{'artifacts_root': 'artifacts', 'data_ingestion': {'root_dir': 'artifacts/data_ingestion', 'source_URL': 'https://drive.google.com/file/d/1wqlI7hsen8Q7wpjzs3pUeGlDZKqci4W-/view?usp=sharing', 'local_data_file': 'artifacts/data_ingestion/data.zip', 'unzip_dir': 'artifacts/data_ingestion'}}\n"
     ]
    }
   ],
   "source": [
    "from cnnClassifier.utils.common import read_yaml\n",
    "from pathlib import Path\n",
    "\n",
    "config = read_yaml(Path(\"config/config.yaml\"))\n",
    "print(config)"
   ]
  }
 ],
 "metadata": {
  "kernelspec": {
   "display_name": "kidney310",
   "language": "python",
   "name": "python3"
  },
  "language_info": {
   "codemirror_mode": {
    "name": "ipython",
    "version": 3
   },
   "file_extension": ".py",
   "mimetype": "text/x-python",
   "name": "python",
   "nbconvert_exporter": "python",
   "pygments_lexer": "ipython3",
   "version": "3.8.20"
  }
 },
 "nbformat": 4,
 "nbformat_minor": 5
}
