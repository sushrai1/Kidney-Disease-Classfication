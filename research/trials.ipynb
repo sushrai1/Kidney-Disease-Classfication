{
 "cells": [
  {
   "cell_type": "code",
   "execution_count": 1,
   "id": "03fcb07f",
   "metadata": {},
   "outputs": [],
   "source": [
    "import gdown"
   ]
  },
  {
   "cell_type": "code",
   "execution_count": 3,
   "id": "b4632a07",
   "metadata": {},
   "outputs": [],
   "source": [
    "url=\"https://drive.google.com/drive/folders/1mV7cgtK8MabqtnnvI1LVo75x7RwhDOIf?usp=sharing\""
   ]
  },
  {
   "cell_type": "code",
   "execution_count": 14,
   "id": "907a806b",
   "metadata": {},
   "outputs": [],
   "source": [
    "file='1v1hZ5c7abUKF8xXERIw6m9Te8fW7ohw3'"
   ]
  },
  {
   "cell_type": "code",
   "execution_count": 20,
   "id": "77a719cd",
   "metadata": {},
   "outputs": [
    {
     "name": "stderr",
     "output_type": "stream",
     "text": [
      "Skipping already downloaded file kidney_CT_Scan_data.zip\n"
     ]
    },
    {
     "data": {
      "text/plain": [
       "'kidney_CT_Scan_data.zip'"
      ]
     },
     "execution_count": 20,
     "metadata": {},
     "output_type": "execute_result"
    }
   ],
   "source": [
    "import gdown\n",
    "\n",
    "file_id = '1wqlI7hsen8Q7wpjzs3pUeGlDZKqci4W-'\n",
    "url = f'https://drive.google.com/uc?id={file_id}'\n",
    "\n",
    "gdown.download(url, 'kidney_CT_Scan_data.zip', quiet=False, resume=True)\n"
   ]
  },
  {
   "cell_type": "code",
   "execution_count": null,
   "id": "72201a59",
   "metadata": {},
   "outputs": [],
   "source": []
  }
 ],
 "metadata": {
  "kernelspec": {
   "display_name": "kidney310",
   "language": "python",
   "name": "python3"
  },
  "language_info": {
   "codemirror_mode": {
    "name": "ipython",
    "version": 3
   },
   "file_extension": ".py",
   "mimetype": "text/x-python",
   "name": "python",
   "nbconvert_exporter": "python",
   "pygments_lexer": "ipython3",
   "version": "3.8.20"
  }
 },
 "nbformat": 4,
 "nbformat_minor": 5
}
